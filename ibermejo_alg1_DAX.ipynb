{
 "metadata": {
  "language_info": {
   "codemirror_mode": {
    "name": "ipython",
    "version": 3
   },
   "file_extension": ".py",
   "mimetype": "text/x-python",
   "name": "python",
   "nbconvert_exporter": "python",
   "pygments_lexer": "ipython3",
   "version": "3.8.5"
  },
  "orig_nbformat": 2,
  "kernelspec": {
   "name": "python3",
   "display_name": "Python 3.8.5 64-bit ('base': conda)"
  },
  "interpreter": {
   "hash": "642ed197f51b4a6f70d3007f365abeb4e11cf6d289847988e1cf6d37c781e715"
  }
 },
 "nbformat": 4,
 "nbformat_minor": 2,
 "cells": [
  {
   "cell_type": "code",
   "execution_count": null,
   "source": [],
   "outputs": [],
   "metadata": {}
  },
  {
   "cell_type": "code",
   "execution_count": 1,
   "source": [
    "# Algoritmo 1\r\n",
    "# En este algoritmo voy a usar el indicador Tecnico de las nubes de Ichimoku\r\n",
    "# La señal de compra viene definida por varias condiciones dentro del indicador,\r\n",
    "# estas son que el precio y el tenkan esten por encima de los senkou y que el tenkan\r\n",
    "# sea inferior al precio entre otras.\r\n",
    "# A la hora de buscar salidas de las operaciones se opta por un SL inicial en el\r\n",
    "# senkou y dos condicionantes de salida, aunque el principal es la pendiente\r\n",
    "# negativa de una ema corta\r\n",
    "# Respecto a la gestion de capital se ha optado por una asignacion fij\r\n",
    "import requests\r\n",
    "import json\r\n",
    "import pandas as pd\r\n",
    "import numpy  as np\r\n",
    "import matplotlib.pyplot as plt\r\n",
    "from datetime import date\r\n",
    "from api_bme import APIBMEHandler"
   ],
   "outputs": [],
   "metadata": {}
  },
  {
   "cell_type": "code",
   "execution_count": 2,
   "source": [
    "# Descargo los datos de la api de BME\r\n",
    "APIBME = APIBMEHandler('DAX', 'ignaciobermejo_algo1')\r\n",
    "maestro_df = APIBME.get_ticker_master()\r\n",
    "data_close, data_high, data_low, data_open, data_vol = APIBME.get_data()\r\n",
    "benchmark = APIBME.get_close_data_ticker('benchmark')\r\n"
   ],
   "outputs": [],
   "metadata": {}
  },
  {
   "cell_type": "code",
   "execution_count": 3,
   "source": [
    "# Defino los componentes que conforma Ichimoku que son: Tenkan Sen(linea de conversion), Kijun Sen (linea base), Chinkou Span (precio actual retardado), Senkou Span A(extension ppal A), Senkou Span B(extension ppal B), Kumo(nube ichimoku A-B)\r\n",
    "def obv(data, volumen):\r\n",
    "    vol=pd.DataFrame(index=data.index, columns=data.columns, data=0)\r\n",
    "    vol[data.diff()>0]=volumen\r\n",
    "    vol[data.diff()<0]= -(volumen)\r\n",
    "    vol=cumsum()\r\n",
    "    return vol\r\n",
    "\r\n",
    "def ichimoku(high,low,close,periodo_1,periodo_2,preiodo_3):\r\n",
    "    chinkou_span=close*1\r\n",
    "    chinkou_span=chinkou_span.shift(periodo_2,freq='B')#tenia puesto tshift pero me salta que se elimina en futuras veriones\r\n",
    "    tenkan_sen=(high.rolling(periodo_1).max()+low.rolling(periodo_1).min())/2\r\n",
    "    kijun_sen=(high.rolling(periodo_2).max()+low.rolling(periodo_2).min())/2\r\n",
    "    senkou_aux1=(tenkan_sen+kijun_sen)/2\r\n",
    "    senkou_span_A=senkou_aux1.shift(periodo_2,freq='B')\r\n",
    "    senkou_aux2=(high.rolling(preiodo_3).max()+low.rolling(preiodo_3).min())/2\r\n",
    "    senkou_span_B=senkou_aux2.shift(periodo_2,freq='B')\r\n",
    "    return senkou_span_A, senkou_span_B, chinkou_span, tenkan_sen, kijun_sen\r\n",
    "\r\n",
    "def MME(data, periodo):\r\n",
    "    mme=data.ewm(span=periodo,adjust=False).mean()\r\n",
    "    return mme"
   ],
   "outputs": [],
   "metadata": {}
  },
  {
   "cell_type": "code",
   "execution_count": 4,
   "source": [
    "#Calculo los retornos diarios\r\n",
    "data_returns=np.log(data_close).diff()\r\n",
    "\r\n",
    "#Aplico los componentes de ichimoku\r\n",
    "periodo_1 = 18\r\n",
    "periodo_2 = 52\r\n",
    "periodo_3 = 104\r\n",
    "\r\n",
    "senkou_span_A,senkou_span_B,chinkou_span,tenkan_sen,kijun_sen=ichimoku(data_high,data_low,data_close, periodo_1,periodo_2,periodo_3)\r\n",
    "mme_18=MME(data_close,periodo_1)\r\n",
    "mme_5=MME(data_close,5)\r\n",
    "\r\n",
    "#Aplico los indicadores y selecciono las operaciones\r\n",
    "posiciones=pd.DataFrame(index=data_close.index,columns=data_close.columns,data=0)\r\n",
    "posiciones_aux=pd.DataFrame(index=data_close.index,columns=data_close.columns,data=0)\r\n",
    "\r\n",
    "filtro_1=(data_close.iloc[periodo_2:,:]-senkou_span_A.iloc[:-periodo_2,:]>0) & (data_close.iloc[periodo_2:,:]-senkou_span_B.iloc[:-periodo_2,:]>0)\r\n",
    "filtro_2 = (tenkan_sen.iloc[periodo_2:,:] - senkou_span_A.iloc[:-periodo_2,:]>0) & (tenkan_sen.iloc[periodo_2:,:] - senkou_span_B.iloc[:-periodo_2,:]>0)\r\n",
    "filtro_3 = (data_low.iloc[periodo_2:,:] - senkou_span_A.iloc[:-periodo_2,:]>0) & (data_low.iloc[periodo_2:,:] - senkou_span_B.iloc[:-periodo_2,:]>0)\r\n",
    "posiciones_aux[filtro_1] = 1\r\n",
    "posiciones_aux[posiciones_aux.diff()!= 1] = 0\r\n",
    "posiciones_aux = posiciones_aux.ffill(limit = 6)\r\n",
    "filtro_4 = (tenkan_sen<data_close) & (posiciones_aux == 1) \r\n",
    "filtro_4 = ((tenkan_sen*1.005)<data_close)\r\n",
    "posiciones[filtro_1 & filtro_2 & filtro_3 & filtro_4] = 1\r\n",
    "comprar_posiciones = posiciones*1\r\n",
    "\r\n",
    "p_compra = posiciones*data_close\r\n",
    "p_compra[p_compra ==0]=None\r\n",
    "p_compra = p_compra.ffill()\r\n",
    "p_compra[data_close.isna()] = None"
   ],
   "outputs": [],
   "metadata": {}
  },
  {
   "cell_type": "code",
   "execution_count": 5,
   "source": [
    "#Defino el Stop Loss\r\n",
    "stop_loss=senkou_span_A*1\r\n",
    "stop_loss[senkou_span_B>senkou_span_A]=senkou_span_B\r\n",
    "stop_loss=stop_loss*0.997\r\n",
    "stop_loss=comprar_posiciones*stop_loss\r\n",
    "stop_loss[stop_loss==0]=None\r\n",
    "stop_loss=stop_loss.ffill()\r\n",
    "stop_loss[data_close>(1.015*p_compra)]=p_compra\r\n",
    "stop_loss[data_close.isna()]=None\r\n",
    "\r\n",
    "#Defino cuando vender las posiciones\r\n",
    "posiciones[data_close-stop_loss<0]=-1\r\n",
    "posiciones[(data_close<(tenkan_sen*0.99)) & (mme_18.diff()<0)]=-1\r\n",
    "posiciones[mme_5.diff()<0]=-1\r\n",
    "\r\n",
    "#Creo un DF de todas las compras y ventas\r\n",
    "posiciones[posiciones==0]=None\r\n",
    "posiciones=posiciones.ffill()\r\n",
    "posiciones[posiciones==-1]=0\r\n",
    "posiciones=posiciones.ffill()\r\n",
    "posiciones[data_close.isna()]=None"
   ],
   "outputs": [],
   "metadata": {}
  },
  {
   "cell_type": "code",
   "execution_count": 6,
   "source": [
    "#Defino cuanto comprar y pongo un volumne fijo de 0.03\r\n",
    "vol_invertir=posiciones*0.03\r\n",
    "vol_invertir[vol_invertir.isna()]=0"
   ],
   "outputs": [],
   "metadata": {}
  },
  {
   "cell_type": "code",
   "execution_count": 7,
   "source": [
    "def gen_alloc_data(ticker, alloc):\r\n",
    "    return {'ticker': ticker,\r\n",
    "            'alloc': alloc}\r\n",
    "tickers = data_close.columns\r\n",
    "tickers = tickers.to_series()\r\n",
    "alloc = vol_invertir.iloc[-1,:].values\r\n",
    "\r\n",
    "hoy = date.today().strftime('%Y-%m-%d')\r\n",
    "\r\n",
    "allocation = [gen_alloc_data(tickers[i], alloc[i]) for i in np.arange(0,data_close.shape[1])]\r\n",
    "APIBME.post_alloc(hoy,allocation)"
   ],
   "outputs": [
    {
     "output_type": "stream",
     "name": "stdout",
     "text": [
      "{'date': '2021-09-01', 'result': True}\n"
     ]
    }
   ],
   "metadata": {}
  },
  {
   "cell_type": "code",
   "execution_count": null,
   "source": [],
   "outputs": [],
   "metadata": {}
  }
 ]
}