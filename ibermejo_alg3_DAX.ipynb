{
 "metadata": {
  "language_info": {
   "codemirror_mode": {
    "name": "ipython",
    "version": 3
   },
   "file_extension": ".py",
   "mimetype": "text/x-python",
   "name": "python",
   "nbconvert_exporter": "python",
   "pygments_lexer": "ipython3",
   "version": "3.8.5"
  },
  "orig_nbformat": 2,
  "kernelspec": {
   "name": "python3",
   "display_name": "Python 3.8.5 64-bit ('base': conda)"
  },
  "interpreter": {
   "hash": "642ed197f51b4a6f70d3007f365abeb4e11cf6d289847988e1cf6d37c781e715"
  }
 },
 "nbformat": 4,
 "nbformat_minor": 2,
 "cells": [
  {
   "cell_type": "code",
   "execution_count": null,
   "source": [],
   "outputs": [],
   "metadata": {}
  },
  {
   "cell_type": "code",
   "execution_count": 1,
   "source": [
    "#Algoritmo 3\r\n",
    "#Este algoritmo va a ser una combinacion de medias moviles(mme) y macd. De tal forma que cuando hay un cruce de mme que indique un cambio en la tendencia entraremos a comprar al igual que cuando se produzca una sobre compra en el macd\r\n",
    "#Para limitar las perdidas debo bloquear para no operar cuando las mme cuando tengan un cambio de tendencia negativo al igual que en si el macd es negativo\r\n",
    "#Solo compro cuando el cruce de mme y el macd sean positivos\r\n",
    "#Para salir de la posicion ocurrira cuando el bloqueador se active, qsalte el SL y las pendientes de mme y macd sean negativas\r\n",
    "#La distribucion de los pesos vendra determinada por las mme\r\n",
    "import requests\r\n",
    "import json\r\n",
    "import pandas as pd\r\n",
    "import numpy  as np\r\n",
    "import matplotlib.pyplot as plt\r\n",
    "from datetime import date\r\n",
    "#import plotly.graph_objs as go\r\n",
    "#import plotly.offline as py\r\n",
    "#Se necesita esta linea para que se puedan ver los graficos en el jupyter notebook\r\n",
    "#py.init_notebook_mode() #error en que py no esta definido\r\n",
    "from api_bme import APIBMEHandler"
   ],
   "outputs": [],
   "metadata": {}
  },
  {
   "cell_type": "code",
   "execution_count": 2,
   "source": [
    "# Descargo los datos de la api de BME\r\n",
    "APIBME = APIBMEHandler('DAX', 'ignaciobermejo_algo3')\r\n",
    "maestro_df = APIBME.get_ticker_master()\r\n",
    "data_close, data_high, data_low, data_open, data_vol = APIBME.get_data()\r\n",
    "benchmark = APIBME.get_close_data_ticker('benchmark')\r\n",
    "\r\n",
    "#almaceno los tickers para el grafico final\r\n",
    "returns=data_close\r\n",
    "tickers=returns.columns.values #puede que me falte poner de que DF sacarlos"
   ],
   "outputs": [],
   "metadata": {}
  },
  {
   "cell_type": "code",
   "execution_count": 3,
   "source": [
    "def MME(data,periodo):\r\n",
    "    mme_df = data.ewm(alpha = 2/(periodo+1), adjust= False).mean()\r\n",
    "    return mme_df\r\n",
    "\r\n",
    "def MACD(data,periodo1,periodo2,periodo3):\r\n",
    "    mme_rapida = MME(data,periodo1)\r\n",
    "    mme_lenta = MME(data,periodo2)\r\n",
    "    signal_rapida = mme_rapida-mme_lenta\r\n",
    "    signal_lenta = MME(signal_rapida,periodo3)\r\n",
    "    macd_hist = signal_rapida-signal_lenta\r\n",
    "    return signal_rapida,signal_lenta,macd_hist\r\n",
    "\r\n",
    "\r\n",
    "def indice_fuerza(datos,volumen):\r\n",
    "    fuerza = datos.diff()*volumen\r\n",
    "    mme_fuerza_rapida = MME(fuerza,2)\r\n",
    "    mme_fuerza_lenta = MME(fuerza,13)\r\n",
    "    return fuerza, mme_fuerza_rapida"
   ],
   "outputs": [],
   "metadata": {}
  },
  {
   "cell_type": "code",
   "execution_count": 4,
   "source": [
    "#Calculo los retornos diarios\r\n",
    "data_returns = np.log(data_close).diff()\r\n",
    "\r\n",
    "#A partitr de los datos diarios los paso a datos semanales\r\n",
    "data_close_s = data_close.resample('W').last()\r\n",
    "data_high_s = data_high.resample('W').max()\r\n",
    "data_low_s = data_low.resample('W').min()\r\n",
    "data_open_s = data_open.resample('W').first()\r\n",
    "data_vol_s = data_vol.resample('W').sum()\r\n",
    "\r\n",
    "#Aplicar los primeros indicadores semanales de mme y macd\r\n",
    "mme_13_s = MME(data_close_s,13)\r\n",
    "mme_26_s = MME(data_close_s,26)\r\n",
    "signal_rapida_s,signal_lenta_s,macd_hist_s = MACD(data_close_s,12,26,9)\r\n",
    "\r\n",
    "#Filtro las operaciones\r\n",
    "penmacd_s = macd_hist_s.diff().iloc[1:,:]/macd_hist_s.iloc[:-1,:]\r\n",
    "diff_macd_s = macd_hist_s.diff()\r\n",
    "diff_mme_s = mme_13_s.diff()\r\n",
    "posicion_s = pd.DataFrame(index=data_close_s.index, columns=data_close_s.columns,data=0)\r\n",
    "resta_mme = mme_26_s-mme_13_s\r\n",
    "posicion_s [(diff_mme_s>0) | (diff_macd_s>0)] = 1\r\n",
    "\r\n",
    "#Aplicos los filtros para trabajar con el diario\r\n",
    "fuerza, mme_fuerza2 = indice_fuerza(data_close,data_vol)\r\n",
    "mme_13 = MME(data_close,13)\r\n",
    "mme_26 = MME(data_close,26)\r\n",
    "signal_rapida,signal_lenta,macd_hist = MACD(data_close,12,26,9)\r\n",
    "\r\n",
    "penmacd = macd_hist.diff().iloc[1:,:]/macd_hist.iloc[:-1,:]\r\n",
    "diff_macd = macd_hist.diff()\r\n",
    "mme_5 = MME(data_close,5)\r\n",
    "diff_mme = mme_5.diff()\r\n",
    "\r\n",
    "posicion = pd.DataFrame(index=data_close.index, columns=data_close.columns,data=0)\r\n",
    "posicion [(diff_mme>0) & (diff_macd>0)] = 1\r\n",
    "\r\n",
    "#Tras aplicar los dos filtros que nos permitiran operaciones tenemos que combinarlos\r\n",
    "posiciones_diarias = posicion_s.resample('B').ffill(limit=6)\r\n",
    "posicion= posicion*posiciones_diarias\r\n",
    "posicion = posicion.dropna()\r\n",
    "posicion[data_close.isna()] = None\r\n",
    "\r\n",
    "newrow = data_close.index.difference(posicion.index)\r\n",
    "posicion_compra_diaria = pd.DataFrame(index=data_close.index.difference(posicion.index), columns=data_close.columns,data=0)\r\n",
    "posicion =  posicion_compra_diaria.append(posicion)\r\n",
    "posicion_compra_diaria = posicion*1"
   ],
   "outputs": [],
   "metadata": {}
  },
  {
   "cell_type": "code",
   "execution_count": 5,
   "source": [
    "#Defino el SL minimo del dia como -1.5*atr\r\n",
    "aux_1 = data_high - data_low\r\n",
    "aux_2 = abs(data_high.iloc[1:,:]-data_close.iloc[0:-1,:])\r\n",
    "aux_3 = abs(data_low.iloc[1:,:]-data_close.iloc[0:-1,:])\r\n",
    "tro_1 = aux_1[(aux_1>=aux_2) & (aux_1>=aux_3)] \r\n",
    "tro_2 = aux_2[(aux_2>=aux_3) & (aux_2>aux_1)] \r\n",
    "tro_3 = aux_3[(aux_3>aux_2)&(aux_3>aux_1)]\r\n",
    "tro_4 = tro_1.add(tro_2, fill_value=0)\r\n",
    "tr = tro_4.add(tro_3, fill_value=0)  \r\n",
    "atr = tr.rolling(14).mean().ffill(limit=5)\r\n",
    "p_venta = data_low-1.5*atr\r\n",
    "\r\n",
    "\r\n",
    "#Filtro las operaciones de venta semanales\r\n",
    "posicion_s[(diff_mme_s<0) & (diff_macd_s<0)] = -1\r\n",
    "posicion_venta_diaria = posicion_s.resample('B').ffill(limit=6)\r\n",
    "posicion[posicion_venta_diaria==-1] = -1\r\n",
    "\r\n",
    "# Se filtran lasventas diarias\r\n",
    "posicion[(p_venta>data_close) | (p_venta>data_low)] =-1\r\n",
    "posicion[(mme_26.diff()<0) & (signal_rapida.diff()<0) & (diff_macd<0)] = -1\r\n",
    "\r\n",
    "#Creo el df total de posiciones de compra y venta\r\n",
    "posicion[posicion==0] = None\r\n",
    "posicion = posicion.ffill()\r\n",
    "posicion[posicion == -1] = 0\r\n",
    "posicion = posicion.ffill()\r\n",
    "posicion[data_close.isna()] = None"
   ],
   "outputs": [],
   "metadata": {}
  },
  {
   "cell_type": "code",
   "execution_count": 6,
   "source": [
    "#Cuanto comprar\r\n",
    "#Ordeno las prioridades de compra segun el incremento porcentual del signal_rapida\r\n",
    "mme_12 = MME(data_close,12)\r\n",
    "mme_12_pen = mme_12.diff().iloc[1:,:]/mme_12.iloc[:-1,:]\r\n",
    "mme_26_pen = mme_26.diff().iloc[1:,:]/mme_26.iloc[:-1,:]\r\n",
    "ranker = (mme_12_pen - mme_26_pen)*100\r\n",
    "# Definiremos un volumen entre 0.022 y 0.015 por operacion, iniciamos asignando 0.02 en todos los lugares donde tengamos una entrada\r\n",
    "# El maximo de entradas en un dia sera de 6  \r\n",
    "posicion_compra_diaria[posicion_compra_diaria.diff()!= 1] = 0\r\n",
    "\r\n",
    "for i in range(-2700,-0):\r\n",
    "    rankerv = ranker.iloc[i-1,:]\r\n",
    "    rankerv [posicion_compra_diaria.iloc[i,:] !=1] = None\r\n",
    "    rankerv = rankerv.sort_values(ascending=False)\r\n",
    "    rankerv.iloc[0:6] = [0.022,0.02,0.02,0.017,0.015,0.015]\r\n",
    "    rankerv.iloc[6:] = 0\r\n",
    "    rankerv = rankerv.loc[posicion_compra_diaria.columns]\r\n",
    "    posicion_compra_diaria.iloc[i,:] = posicion_compra_diaria.iloc[i,:] * rankerv\r\n",
    "\r\n",
    "posicion_compra_diaria[posicion_compra_diaria == 0] = None\r\n",
    "posicion_compra_diaria = posicion_compra_diaria.ffill()\r\n",
    "posicion_compra_diaria = posicion_compra_diaria * posicion\r\n",
    "\r\n",
    "posicion_compra_diaria.iloc[-2600:,:].sum(axis=1).max()\r\n",
    "vol_inver = posicion_compra_diaria*1\r\n",
    "vol_inver[vol_inver.isna()] = 0\r\n"
   ],
   "outputs": [],
   "metadata": {}
  },
  {
   "cell_type": "code",
   "execution_count": 7,
   "source": [
    "def gen_alloc_data(ticker, alloc):\r\n",
    "    return {'ticker': ticker,\r\n",
    "            'alloc': alloc}\r\n",
    "tickers = data_close.columns\r\n",
    "tickers = tickers.to_series()\r\n",
    "alloc = vol_inver.iloc[-1,:].values\r\n",
    "\r\n",
    "hoy = date.today().strftime('%Y-%m-%d')\r\n",
    "\r\n",
    "allocation = [gen_alloc_data(tickers[i], alloc[i]) for i in np.arange(0,data_close.shape[1])]\r\n",
    "APIBME.post_alloc(hoy,allocation)"
   ],
   "outputs": [
    {
     "output_type": "stream",
     "name": "stdout",
     "text": [
      "{'date': '2021-09-01', 'result': True}\n"
     ]
    }
   ],
   "metadata": {}
  },
  {
   "cell_type": "code",
   "execution_count": null,
   "source": [],
   "outputs": [],
   "metadata": {}
  }
 ]
}